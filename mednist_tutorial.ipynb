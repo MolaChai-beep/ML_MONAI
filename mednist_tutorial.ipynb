{
  "cells": [
    {
      "cell_type": "markdown",
      "metadata": {
        "id": "view-in-github",
        "colab_type": "text"
      },
      "source": [
        "<a href=\"https://colab.research.google.com/github/MolaChai-beep/ML_MONAI/blob/main/mednist_tutorial.ipynb\" target=\"_parent\"><img src=\"https://colab.research.google.com/assets/colab-badge.svg\" alt=\"Open In Colab\"/></a>"
      ]
    },
    {
      "cell_type": "markdown",
      "metadata": {
        "id": "jaUGHjFHKhDJ"
      },
      "source": [
        "Copyright (c) MONAI Consortium  \n",
        "Licensed under the Apache License, Version 2.0 (the \"License\");  \n",
        "you may not use this file except in compliance with the License.  \n",
        "You may obtain a copy of the License at  \n",
        "&nbsp;&nbsp;&nbsp;&nbsp;http://www.apache.org/licenses/LICENSE-2.0  \n",
        "Unless required by applicable law or agreed to in writing, software  \n",
        "distributed under the License is distributed on an \"AS IS\" BASIS,  \n",
        "WITHOUT WARRANTIES OR CONDITIONS OF ANY KIND, either express or implied.  \n",
        "See the License for the specific language governing permissions and  \n",
        "limitations under the License.\n",
        "\n",
        "# Medical Image Classification Tutorial with the MedNIST Dataset\n",
        "\n",
        "In this tutorial, we introduce an end-to-end training and evaluation example based on the MedNIST dataset.\n",
        "\n",
        "We'll go through the following steps:\n",
        "* Create a dataset for training and testing\n",
        "* Use MONAI transforms to pre-process data\n",
        "* Use the DenseNet from MONAI for classification\n",
        "* Train the model with a PyTorch program\n",
        "* Evaluate on test dataset\n",
        "\n",
        "[![Open In Colab](https://colab.research.google.com/assets/colab-badge.svg)](https://colab.research.google.com/github/Project-MONAI/tutorials/blob/main/2d_classification/mednist_tutorial.ipynb)"
      ]
    },
    {
      "cell_type": "markdown",
      "metadata": {
        "id": "b4ZyoOOgKhDL"
      },
      "source": [
        "## Setup environment"
      ]
    },
    {
      "cell_type": "code",
      "execution_count": null,
      "metadata": {
        "colab": {
          "base_uri": "https://localhost:8080/"
        },
        "id": "5sVVDfm7KhDL",
        "outputId": "3dcd3e9b-f7e4-4741-adbf-7e6a11a66e37"
      },
      "outputs": [
        {
          "output_type": "stream",
          "name": "stdout",
          "text": [
            "Traceback (most recent call last):\n",
            "  File \"<string>\", line 1, in <module>\n",
            "ModuleNotFoundError: No module named 'monai'\n",
            "\u001b[2K   \u001b[90m━━━━━━━━━━━━━━━━━━━━━━━━━━━━━━━━━━━━━━━━\u001b[0m \u001b[32m363.4/363.4 MB\u001b[0m \u001b[31m4.0 MB/s\u001b[0m eta \u001b[36m0:00:00\u001b[0m\n",
            "\u001b[2K   \u001b[90m━━━━━━━━━━━━━━━━━━━━━━━━━━━━━━━━━━━━━━━━\u001b[0m \u001b[32m13.8/13.8 MB\u001b[0m \u001b[31m41.2 MB/s\u001b[0m eta \u001b[36m0:00:00\u001b[0m\n",
            "\u001b[2K   \u001b[90m━━━━━━━━━━━━━━━━━━━━━━━━━━━━━━━━━━━━━━━━\u001b[0m \u001b[32m24.6/24.6 MB\u001b[0m \u001b[31m29.4 MB/s\u001b[0m eta \u001b[36m0:00:00\u001b[0m\n",
            "\u001b[2K   \u001b[90m━━━━━━━━━━━━━━━━━━━━━━━━━━━━━━━━━━━━━━━━\u001b[0m \u001b[32m883.7/883.7 kB\u001b[0m \u001b[31m22.4 MB/s\u001b[0m eta \u001b[36m0:00:00\u001b[0m\n",
            "\u001b[2K   \u001b[90m━━━━━━━━━━━━━━━━━━━━━━━━━━━━━━━━━━━━━━━━\u001b[0m \u001b[32m664.8/664.8 MB\u001b[0m \u001b[31m2.1 MB/s\u001b[0m eta \u001b[36m0:00:00\u001b[0m\n",
            "\u001b[2K   \u001b[90m━━━━━━━━━━━━━━━━━━━━━━━━━━━━━━━━━━━━━━━━\u001b[0m \u001b[32m211.5/211.5 MB\u001b[0m \u001b[31m5.0 MB/s\u001b[0m eta \u001b[36m0:00:00\u001b[0m\n",
            "\u001b[2K   \u001b[90m━━━━━━━━━━━━━━━━━━━━━━━━━━━━━━━━━━━━━━━━\u001b[0m \u001b[32m56.3/56.3 MB\u001b[0m \u001b[31m12.7 MB/s\u001b[0m eta \u001b[36m0:00:00\u001b[0m\n",
            "\u001b[2K   \u001b[90m━━━━━━━━━━━━━━━━━━━━━━━━━━━━━━━━━━━━━━━━\u001b[0m \u001b[32m127.9/127.9 MB\u001b[0m \u001b[31m7.4 MB/s\u001b[0m eta \u001b[36m0:00:00\u001b[0m\n",
            "\u001b[2K   \u001b[90m━━━━━━━━━━━━━━━━━━━━━━━━━━━━━━━━━━━━━━━━\u001b[0m \u001b[32m207.5/207.5 MB\u001b[0m \u001b[31m5.5 MB/s\u001b[0m eta \u001b[36m0:00:00\u001b[0m\n",
            "\u001b[2K   \u001b[90m━━━━━━━━━━━━━━━━━━━━━━━━━━━━━━━━━━━━━━━━\u001b[0m \u001b[32m21.1/21.1 MB\u001b[0m \u001b[31m84.0 MB/s\u001b[0m eta \u001b[36m0:00:00\u001b[0m\n",
            "\u001b[2K   \u001b[90m━━━━━━━━━━━━━━━━━━━━━━━━━━━━━━━━━━━━━━━━\u001b[0m \u001b[32m2.6/2.6 MB\u001b[0m \u001b[31m74.1 MB/s\u001b[0m eta \u001b[36m0:00:00\u001b[0m\n",
            "\u001b[?25h"
          ]
        }
      ],
      "source": [
        "!python -c \"import monai\" || pip install -q \"monai-weekly[pillow, tqdm]\"\n",
        "!python -c \"import matplotlib\" || pip install -q matplotlib\n",
        "%matplotlib inline"
      ]
    },
    {
      "cell_type": "markdown",
      "metadata": {
        "id": "-wdaiPLiKhDL"
      },
      "source": [
        "## Setup imports"
      ]
    },
    {
      "cell_type": "code",
      "execution_count": null,
      "metadata": {
        "tags": [],
        "colab": {
          "base_uri": "https://localhost:8080/"
        },
        "id": "ihFmbLR3KhDM",
        "outputId": "357dcf34-8cd1-431f-c96e-d41a0706e316"
      },
      "outputs": [
        {
          "output_type": "stream",
          "name": "stdout",
          "text": [
            "MONAI version: 1.5.dev2514\n",
            "Numpy version: 2.0.2\n",
            "Pytorch version: 2.6.0+cu124\n",
            "MONAI flags: HAS_EXT = False, USE_COMPILED = False, USE_META_DICT = False\n",
            "MONAI rev id: a3ea49fc4e600d131daadad61ea340df25fcfdaa\n",
            "MONAI __file__: /usr/local/lib/python3.11/dist-packages/monai/__init__.py\n",
            "\n",
            "Optional dependencies:\n",
            "Pytorch Ignite version: NOT INSTALLED or UNKNOWN VERSION.\n",
            "ITK version: NOT INSTALLED or UNKNOWN VERSION.\n",
            "Nibabel version: 5.3.2\n",
            "scikit-image version: 0.25.2\n",
            "scipy version: 1.14.1\n",
            "Pillow version: 11.1.0\n",
            "Tensorboard version: 2.18.0\n",
            "gdown version: 5.2.0\n",
            "TorchVision version: 0.21.0+cu124\n",
            "tqdm version: 4.67.1\n",
            "lmdb version: NOT INSTALLED or UNKNOWN VERSION.\n",
            "psutil version: 5.9.5\n",
            "pandas version: 2.2.2\n",
            "einops version: 0.8.1\n",
            "transformers version: 4.50.3\n",
            "mlflow version: NOT INSTALLED or UNKNOWN VERSION.\n",
            "pynrrd version: NOT INSTALLED or UNKNOWN VERSION.\n",
            "clearml version: NOT INSTALLED or UNKNOWN VERSION.\n",
            "\n",
            "For details about installing the optional dependencies, please visit:\n",
            "    https://docs.monai.io/en/latest/installation.html#installing-the-recommended-dependencies\n",
            "\n"
          ]
        }
      ],
      "source": [
        "import os\n",
        "import shutil\n",
        "import tempfile\n",
        "import matplotlib.pyplot as plt\n",
        "import PIL\n",
        "import torch\n",
        "from torch.utils.tensorboard import SummaryWriter\n",
        "import numpy as np\n",
        "from sklearn.metrics import classification_report\n",
        "\n",
        "from monai.apps import download_and_extract\n",
        "from monai.config import print_config\n",
        "from monai.data import decollate_batch, DataLoader\n",
        "from monai.metrics import ROCAUCMetric\n",
        "from monai.networks.nets import DenseNet121\n",
        "from monai.transforms import (\n",
        "    Activations,\n",
        "    EnsureChannelFirst,\n",
        "    AsDiscrete,\n",
        "    Compose,\n",
        "    LoadImage,\n",
        "    RandFlip,\n",
        "    RandRotate,\n",
        "    RandZoom,\n",
        "    ScaleIntensity,\n",
        ")\n",
        "from monai.utils import set_determinism\n",
        "\n",
        "print_config()"
      ]
    },
    {
      "cell_type": "markdown",
      "metadata": {
        "id": "HcI0JAxvKhDM"
      },
      "source": [
        "## Setup data directory\n",
        "\n",
        "You can specify a directory with the `MONAI_DATA_DIRECTORY` environment variable.  \n",
        "This allows you to save results and reuse downloads.  \n",
        "If not specified a temporary directory will be used."
      ]
    },
    {
      "cell_type": "code",
      "execution_count": null,
      "metadata": {
        "tags": [],
        "colab": {
          "base_uri": "https://localhost:8080/"
        },
        "id": "1nYm7oIrKhDM",
        "outputId": "896cd4d2-783e-49b5-dc89-cbbfb9d8260a"
      },
      "outputs": [
        {
          "output_type": "stream",
          "name": "stdout",
          "text": [
            "/tmp/tmp0rvpot99\n"
          ]
        }
      ],
      "source": [
        "directory = os.environ.get(\"MONAI_DATA_DIRECTORY\")\n",
        "if directory is not None:\n",
        "    os.makedirs(directory, exist_ok=True)\n",
        "root_dir = tempfile.mkdtemp() if directory is None else directory\n",
        "print(root_dir)"
      ]
    },
    {
      "cell_type": "markdown",
      "metadata": {
        "id": "7oOG-GNVKhDM"
      },
      "source": [
        "## Download dataset\n",
        "\n",
        "The MedNIST dataset was gathered from several sets from [TCIA](https://wiki.cancerimagingarchive.net/display/Public/Data+Usage+Policies+and+Restrictions),\n",
        "[the RSNA Bone Age Challenge](http://rsnachallenges.cloudapp.net/competitions/4),\n",
        "and [the NIH Chest X-ray dataset](https://cloud.google.com/healthcare/docs/resources/public-datasets/nih-chest).\n",
        "\n",
        "The dataset is kindly made available by [Dr. Bradley J. Erickson M.D., Ph.D.](https://www.mayo.edu/research/labs/radiology-informatics/overview) (Department of Radiology, Mayo Clinic)\n",
        "under the Creative Commons [CC BY-SA 4.0 license](https://creativecommons.org/licenses/by-sa/4.0/).\n",
        "\n",
        "If you use the MedNIST dataset, please acknowledge the source."
      ]
    },
    {
      "cell_type": "code",
      "execution_count": null,
      "metadata": {
        "tags": [],
        "colab": {
          "base_uri": "https://localhost:8080/"
        },
        "id": "253nWapEKhDN",
        "outputId": "c4491d1f-3d23-4eb1-c236-2129382eace1"
      },
      "outputs": [
        {
          "output_type": "stream",
          "name": "stderr",
          "text": [
            "MedNIST.tar.gz: 59.0MB [00:03, 19.2MB/s]                            "
          ]
        },
        {
          "output_type": "stream",
          "name": "stdout",
          "text": [
            "2025-04-10 15:40:54,847 - INFO - Downloaded: /tmp/tmp0rvpot99/MedNIST.tar.gz\n",
            "2025-04-10 15:40:54,962 - INFO - Verified 'MedNIST.tar.gz', md5: 0bc7306e7427e00ad1c5526a6677552d.\n",
            "2025-04-10 15:40:54,963 - INFO - Writing into directory: /tmp/tmp0rvpot99.\n"
          ]
        },
        {
          "output_type": "stream",
          "name": "stderr",
          "text": [
            "\n"
          ]
        }
      ],
      "source": [
        "resource = \"https://github.com/Project-MONAI/MONAI-extra-test-data/releases/download/0.8.1/MedNIST.tar.gz\"\n",
        "md5 = \"0bc7306e7427e00ad1c5526a6677552d\"\n",
        "\n",
        "compressed_file = os.path.join(root_dir, \"MedNIST.tar.gz\")\n",
        "data_dir = os.path.join(root_dir, \"MedNIST\")\n",
        "if not os.path.exists(data_dir):\n",
        "    download_and_extract(resource, compressed_file, root_dir, md5)"
      ]
    },
    {
      "cell_type": "markdown",
      "metadata": {
        "id": "d36fymxEKhDN"
      },
      "source": [
        "## Set deterministic training for reproducibility"
      ]
    },
    {
      "cell_type": "code",
      "execution_count": null,
      "metadata": {
        "id": "vpt5Yv6AKhDN"
      },
      "outputs": [],
      "source": [
        "set_determinism(seed=0)"
      ]
    },
    {
      "cell_type": "markdown",
      "metadata": {
        "id": "BeY9-0OpKhDN"
      },
      "source": [
        "## Read image filenames from the dataset folders\n",
        "\n",
        "First of all, check the dataset files and show some statistics.  \n",
        "There are 6 folders in the dataset: Hand, AbdomenCT, CXR, ChestCT, BreastMRI, HeadCT,  \n",
        "which should be used as the labels to train our classification model."
      ]
    },
    {
      "cell_type": "code",
      "execution_count": null,
      "metadata": {
        "tags": [],
        "colab": {
          "base_uri": "https://localhost:8080/"
        },
        "id": "_-MNG_trKhDN",
        "outputId": "742da477-42ae-434b-a0ef-a9483d665d84"
      },
      "outputs": [
        {
          "output_type": "stream",
          "name": "stdout",
          "text": [
            "Total image count: 58954\n",
            "Image dimensions: 64 x 64\n",
            "Label names: ['AbdomenCT', 'BreastMRI', 'CXR', 'ChestCT', 'Hand', 'HeadCT']\n",
            "Label counts: [10000, 8954, 10000, 10000, 10000, 10000]\n"
          ]
        }
      ],
      "source": [
        "class_names = sorted(x for x in os.listdir(data_dir) if os.path.isdir(os.path.join(data_dir, x)))\n",
        "num_class = len(class_names)\n",
        "image_files = [\n",
        "    [os.path.join(data_dir, class_names[i], x) for x in os.listdir(os.path.join(data_dir, class_names[i]))]\n",
        "    for i in range(num_class)\n",
        "]\n",
        "num_each = [len(image_files[i]) for i in range(num_class)]\n",
        "image_files_list = []\n",
        "image_class = []\n",
        "for i in range(num_class):\n",
        "    image_files_list.extend(image_files[i])\n",
        "    image_class.extend([i] * num_each[i])\n",
        "num_total = len(image_class)\n",
        "image_width, image_height = PIL.Image.open(image_files_list[0]).size\n",
        "\n",
        "print(f\"Total image count: {num_total}\")\n",
        "print(f\"Image dimensions: {image_width} x {image_height}\")\n",
        "print(f\"Label names: {class_names}\")\n",
        "print(f\"Label counts: {num_each}\")"
      ]
    },
    {
      "cell_type": "markdown",
      "metadata": {
        "id": "BhCP8o69KhDN"
      },
      "source": [
        "## Randomly pick images from the dataset to visualize and check"
      ]
    },
    {
      "cell_type": "code",
      "execution_count": null,
      "metadata": {
        "colab": {
          "base_uri": "https://localhost:8080/",
          "height": 806
        },
        "id": "YRH4q-UpKhDN",
        "outputId": "d197e7eb-b2b1-412a-e741-487ab1b418eb"
      },
      "outputs": [
        {
          "output_type": "display_data",
          "data": {
            "text/plain": [
              "<Figure size 800x800 with 9 Axes>"
            ],
            "image/png": "[encoded data removed]"
          },
          "metadata": {}
        }
      ],
      "source": [
        "plt.subplots(3, 3, figsize=(8, 8))\n",
        "for i, k in enumerate(np.random.randint(num_total, size=9)):\n",
        "    im = PIL.Image.open(image_files_list[k])\n",
        "    arr = np.array(im)\n",
        "    plt.subplot(3, 3, i + 1)\n",
        "    plt.xlabel(class_names[image_class[k]])\n",
        "    plt.imshow(arr, cmap=\"gray\", vmin=0, vmax=255)\n",
        "plt.tight_layout()\n",
        "plt.show()"
      ]
    },
    {
      "cell_type": "markdown",
      "metadata": {
        "id": "NRvGyHmiKhDN"
      },
      "source": [
        "## Prepare training, validation and test data lists\n",
        "\n",
        "Randomly select 10% of the dataset as validation and 10% as test."
      ]
    },
    {
      "cell_type": "code",
      "execution_count": null,
      "metadata": {
        "tags": [],
        "colab": {
          "base_uri": "https://localhost:8080/"
        },
        "id": "69BzEASlKhDN",
        "outputId": "d6d11f17-cdc8-4bf4-e4b6-d22824427a9b"
      },
      "outputs": [
        {
          "output_type": "stream",
          "name": "stdout",
          "text": [
            "Training count: 47164, Validation count: 5895, Test count: 5895\n"
          ]
        }
      ],
      "source": [
        "val_frac = 0.1\n",
        "test_frac = 0.1\n",
        "length = len(image_files_list)\n",
        "indices = np.arange(length)\n",
        "np.random.shuffle(indices)\n",
        "\n",
        "test_split = int(test_frac * length)\n",
        "val_split = int(val_frac * length) + test_split\n",
        "test_indices = indices[:test_split]\n",
        "val_indices = indices[test_split:val_split]\n",
        "train_indices = indices[val_split:]\n",
        "\n",
        "train_x = [image_files_list[i] for i in train_indices]\n",
        "train_y = [image_class[i] for i in train_indices]\n",
        "val_x = [image_files_list[i] for i in val_indices]\n",
        "val_y = [image_class[i] for i in val_indices]\n",
        "test_x = [image_files_list[i] for i in test_indices]\n",
        "test_y = [image_class[i] for i in test_indices]\n",
        "\n",
        "print(f\"Training count: {len(train_x)}, Validation count: \" f\"{len(val_x)}, Test count: {len(test_x)}\")"
      ]
    },
    {
      "cell_type": "markdown",
      "metadata": {
        "id": "to-ymltMKhDO"
      },
      "source": [
        "## Define MONAI transforms, Dataset and Dataloader to pre-process data"
      ]
    },
    {
      "cell_type": "code",
      "execution_count": null,
      "metadata": {
        "id": "pPh5xoqyKhDO"
      },
      "outputs": [],
      "source": [
        "train_transforms = Compose(\n",
        "    [\n",
        "        LoadImage(image_only=True),\n",
        "        EnsureChannelFirst(),\n",
        "        ScaleIntensity(),\n",
        "        RandRotate(range_x=np.pi / 12, prob=0.5, keep_size=True),\n",
        "        RandFlip(spatial_axis=0, prob=0.5),\n",
        "        RandZoom(min_zoom=0.9, max_zoom=1.1, prob=0.5),\n",
        "    ]\n",
        ")\n",
        "\n",
        "val_transforms = Compose([LoadImage(image_only=True), EnsureChannelFirst(), ScaleIntensity()])\n",
        "\n",
        "y_pred_trans = Compose([Activations(softmax=True)])\n",
        "y_trans = Compose([AsDiscrete(to_onehot=num_class)])"
      ]
    },
    {
      "cell_type": "code",
      "execution_count": null,
      "metadata": {
        "colab": {
          "base_uri": "https://localhost:8080/"
        },
        "id": "i9-eca0PKhDO",
        "outputId": "95815dd4-fa0f-4d0a-8ecd-4cad87b93d37"
      },
      "outputs": [
        {
          "output_type": "stream",
          "name": "stderr",
          "text": [
            "/usr/local/lib/python3.11/dist-packages/torch/utils/data/dataloader.py:624: UserWarning: This DataLoader will create 10 worker processes in total. Our suggested max number of worker in current system is 2, which is smaller than what this DataLoader is going to create. Please be aware that excessive worker creation might get DataLoader running slow or even freeze, lower the worker number to avoid potential slowness/freeze if necessary.\n",
            "  warnings.warn(\n"
          ]
        }
      ],
      "source": [
        "class MedNISTDataset(torch.utils.data.Dataset):\n",
        "    def __init__(self, image_files, labels, transforms):\n",
        "        self.image_files = image_files\n",
        "        self.labels = labels\n",
        "        self.transforms = transforms\n",
        "\n",
        "    def __len__(self):\n",
        "        return len(self.image_files)\n",
        "\n",
        "    def __getitem__(self, index):\n",
        "        return self.transforms(self.image_files[index]), self.labels[index]\n",
        "\n",
        "\n",
        "train_ds = MedNISTDataset(train_x, train_y, train_transforms)\n",
        "train_loader = DataLoader(train_ds, batch_size=300, shuffle=True, num_workers=10)\n",
        "\n",
        "val_ds = MedNISTDataset(val_x, val_y, val_transforms)\n",
        "val_loader = DataLoader(val_ds, batch_size=300, num_workers=10)\n",
        "\n",
        "test_ds = MedNISTDataset(test_x, test_y, val_transforms)\n",
        "test_loader = DataLoader(test_ds, batch_size=300, num_workers=10)"
      ]
    },
    {
      "cell_type": "markdown",
      "metadata": {
        "id": "0jUKX8WtKhDO"
      },
      "source": [
        "## Define network and optimizer\n",
        "\n",
        "1. Set learning rate for how much the model is updated per batch.\n",
        "1. Set total epoch number, as we have shuffle and random transforms, so the training data of every epoch is different.  \n",
        "And as this is just a get start tutorial, let's just train 4 epochs.  \n",
        "If train 10 epochs, the model can achieve 100% accuracy on test dataset.\n",
        "1. Use DenseNet from MONAI and move to GPU device, this DenseNet can support both 2D and 3D classification tasks.\n",
        "1. Use Adam optimizer."
      ]
    },
    {
      "cell_type": "code",
      "execution_count": null,
      "metadata": {
        "id": "Ov_dnMR2KhDO"
      },
      "outputs": [],
      "source": [
        "device = torch.device(\"cuda\" if torch.cuda.is_available() else \"cpu\")\n",
        "model = DenseNet121(spatial_dims=2, in_channels=1, out_channels=num_class).to(device)\n",
        "loss_function = torch.nn.CrossEntropyLoss()\n",
        "optimizer = torch.optim.Adam(model.parameters(), 1e-5)\n",
        "max_epochs = 4\n",
        "val_interval = 1\n",
        "auc_metric = ROCAUCMetric()"
      ]
    },
    {
      "cell_type": "markdown",
      "metadata": {
        "id": "jDv7p5NwKhDO"
      },
      "source": [
        "## Model training\n",
        "\n",
        "Execute a typical PyTorch training that run epoch loop and step loop, and do validation after every epoch.  \n",
        "Will save the model weights to file if got best validation accuracy."
      ]
    },
    {
      "cell_type": "code",
      "execution_count": null,
      "metadata": {
        "tags": [],
        "colab": {
          "base_uri": "https://localhost:8080/"
        },
        "id": "77zHzbeXKhDO",
        "outputId": "92277c65-c0fc-4594-d531-062d8f380784"
      },
      "outputs": [
        {
          "output_type": "stream",
          "name": "stdout",
          "text": [
            "----------\n",
            "epoch 1/4\n",
            "1/157, train_loss: 1.7761\n",
            "2/157, train_loss: 1.7534\n",
            "3/157, train_loss: 1.7444\n",
            "4/157, train_loss: 1.7086\n",
            "5/157, train_loss: 1.6764\n",
            "6/157, train_loss: 1.6669\n",
            "7/157, train_loss: 1.6357\n",
            "8/157, train_loss: 1.5886\n",
            "9/157, train_loss: 1.5763\n",
            "10/157, train_loss: 1.5674\n",
            "11/157, train_loss: 1.5400\n",
            "12/157, train_loss: 1.4994\n",
            "13/157, train_loss: 1.5025\n",
            "14/157, train_loss: 1.4672\n",
            "15/157, train_loss: 1.4377\n",
            "16/157, train_loss: 1.4346\n",
            "17/157, train_loss: 1.4086\n",
            "18/157, train_loss: 1.3978\n",
            "19/157, train_loss: 1.3438\n",
            "20/157, train_loss: 1.3480\n",
            "21/157, train_loss: 1.3209\n",
            "22/157, train_loss: 1.3001\n",
            "23/157, train_loss: 1.2593\n",
            "24/157, train_loss: 1.2805\n",
            "25/157, train_loss: 1.2569\n",
            "26/157, train_loss: 1.2667\n",
            "27/157, train_loss: 1.2149\n",
            "28/157, train_loss: 1.1983\n",
            "29/157, train_loss: 1.1694\n",
            "30/157, train_loss: 1.1576\n",
            "31/157, train_loss: 1.1208\n",
            "32/157, train_loss: 1.1420\n",
            "33/157, train_loss: 1.1116\n",
            "34/157, train_loss: 1.1079\n",
            "35/157, train_loss: 1.1176\n",
            "36/157, train_loss: 1.0676\n",
            "37/157, train_loss: 1.0275\n",
            "38/157, train_loss: 1.0694\n",
            "39/157, train_loss: 0.9967\n",
            "40/157, train_loss: 1.0205\n",
            "41/157, train_loss: 1.0346\n",
            "42/157, train_loss: 0.9885\n",
            "43/157, train_loss: 0.9892\n",
            "44/157, train_loss: 0.9533\n",
            "45/157, train_loss: 0.9250\n",
            "46/157, train_loss: 0.9122\n",
            "47/157, train_loss: 0.9226\n",
            "48/157, train_loss: 0.8795\n",
            "49/157, train_loss: 0.9185\n",
            "50/157, train_loss: 0.8608\n",
            "51/157, train_loss: 0.8544\n",
            "52/157, train_loss: 0.8808\n",
            "53/157, train_loss: 0.8727\n",
            "54/157, train_loss: 0.8464\n",
            "55/157, train_loss: 0.8400\n",
            "56/157, train_loss: 0.7894\n",
            "57/157, train_loss: 0.8155\n",
            "58/157, train_loss: 0.7862\n",
            "59/157, train_loss: 0.7876\n",
            "60/157, train_loss: 0.8042\n",
            "61/157, train_loss: 0.7760\n",
            "62/157, train_loss: 0.7811\n",
            "63/157, train_loss: 0.7394\n",
            "64/157, train_loss: 0.7764\n",
            "65/157, train_loss: 0.7232\n",
            "66/157, train_loss: 0.7657\n",
            "67/157, train_loss: 0.6946\n",
            "68/157, train_loss: 0.6759\n",
            "69/157, train_loss: 0.6965\n",
            "70/157, train_loss: 0.6421\n",
            "71/157, train_loss: 0.7056\n",
            "72/157, train_loss: 0.6442\n",
            "73/157, train_loss: 0.6502\n",
            "74/157, train_loss: 0.6303\n",
            "75/157, train_loss: 0.6065\n",
            "76/157, train_loss: 0.6708\n",
            "77/157, train_loss: 0.6371\n",
            "78/157, train_loss: 0.6082\n",
            "79/157, train_loss: 0.6106\n",
            "80/157, train_loss: 0.6070\n",
            "81/157, train_loss: 0.5703\n",
            "82/157, train_loss: 0.5915\n",
            "83/157, train_loss: 0.6103\n",
            "84/157, train_loss: 0.5881\n",
            "85/157, train_loss: 0.5781\n",
            "86/157, train_loss: 0.5726\n",
            "87/157, train_loss: 0.5118\n",
            "88/157, train_loss: 0.5862\n",
            "89/157, train_loss: 0.5395\n",
            "90/157, train_loss: 0.5086\n",
            "91/157, train_loss: 0.5290\n",
            "92/157, train_loss: 0.4990\n",
            "93/157, train_loss: 0.4736\n",
            "94/157, train_loss: 0.4635\n",
            "95/157, train_loss: 0.4886\n",
            "96/157, train_loss: 0.4586\n",
            "97/157, train_loss: 0.4577\n",
            "98/157, train_loss: 0.5027\n",
            "99/157, train_loss: 0.4728\n",
            "100/157, train_loss: 0.4747\n",
            "101/157, train_loss: 0.4923\n",
            "102/157, train_loss: 0.4275\n",
            "103/157, train_loss: 0.4399\n",
            "104/157, train_loss: 0.4005\n",
            "105/157, train_loss: 0.4485\n",
            "106/157, train_loss: 0.4114\n",
            "107/157, train_loss: 0.4308\n",
            "108/157, train_loss: 0.4405\n",
            "109/157, train_loss: 0.4108\n",
            "110/157, train_loss: 0.3923\n",
            "111/157, train_loss: 0.3838\n",
            "112/157, train_loss: 0.3812\n",
            "113/157, train_loss: 0.3821\n",
            "114/157, train_loss: 0.3751\n",
            "115/157, train_loss: 0.3783\n",
            "116/157, train_loss: 0.3615\n",
            "117/157, train_loss: 0.3656\n",
            "118/157, train_loss: 0.3644\n",
            "119/157, train_loss: 0.3719\n",
            "120/157, train_loss: 0.3652\n",
            "121/157, train_loss: 0.3701\n",
            "122/157, train_loss: 0.3400\n",
            "123/157, train_loss: 0.3193\n",
            "124/157, train_loss: 0.2976\n",
            "125/157, train_loss: 0.3919\n",
            "126/157, train_loss: 0.3300\n",
            "127/157, train_loss: 0.3262\n",
            "128/157, train_loss: 0.3047\n",
            "129/157, train_loss: 0.3406\n",
            "130/157, train_loss: 0.3145\n",
            "131/157, train_loss: 0.3334\n",
            "132/157, train_loss: 0.3018\n",
            "133/157, train_loss: 0.2873\n",
            "134/157, train_loss: 0.3486\n",
            "135/157, train_loss: 0.3090\n",
            "136/157, train_loss: 0.2928\n",
            "137/157, train_loss: 0.3005\n",
            "138/157, train_loss: 0.2615\n",
            "139/157, train_loss: 0.3009\n",
            "140/157, train_loss: 0.2920\n",
            "141/157, train_loss: 0.3497\n",
            "142/157, train_loss: 0.2926\n",
            "143/157, train_loss: 0.3084\n",
            "144/157, train_loss: 0.2754\n",
            "145/157, train_loss: 0.2717\n",
            "146/157, train_loss: 0.2898\n",
            "147/157, train_loss: 0.2615\n",
            "148/157, train_loss: 0.2703\n",
            "149/157, train_loss: 0.2589\n",
            "150/157, train_loss: 0.2598\n",
            "151/157, train_loss: 0.2345\n",
            "152/157, train_loss: 0.2550\n",
            "153/157, train_loss: 0.2470\n",
            "154/157, train_loss: 0.2689\n",
            "155/157, train_loss: 0.2792\n",
            "156/157, train_loss: 0.2760\n",
            "157/157, train_loss: 0.2417\n",
            "158/157, train_loss: 0.2907\n",
            "epoch 1 average loss: 0.7302\n",
            "saved new best metric model\n",
            "current epoch: 1 current AUC: 0.9980 current accuracy: 0.9659 best AUC: 0.9980 at epoch: 1\n",
            "----------\n",
            "epoch 2/4\n",
            "1/157, train_loss: 0.2177\n",
            "2/157, train_loss: 0.2289\n",
            "3/157, train_loss: 0.2119\n",
            "4/157, train_loss: 0.2291\n",
            "5/157, train_loss: 0.2105\n",
            "6/157, train_loss: 0.2310\n",
            "7/157, train_loss: 0.2375\n",
            "8/157, train_loss: 0.2083\n",
            "9/157, train_loss: 0.2060\n",
            "10/157, train_loss: 0.2247\n",
            "11/157, train_loss: 0.2142\n",
            "12/157, train_loss: 0.2215\n",
            "13/157, train_loss: 0.2244\n",
            "14/157, train_loss: 0.1999\n",
            "15/157, train_loss: 0.2134\n",
            "16/157, train_loss: 0.1762\n",
            "17/157, train_loss: 0.2291\n",
            "18/157, train_loss: 0.2119\n",
            "19/157, train_loss: 0.2240\n",
            "20/157, train_loss: 0.2182\n",
            "21/157, train_loss: 0.1722\n",
            "22/157, train_loss: 0.2209\n",
            "23/157, train_loss: 0.1972\n",
            "24/157, train_loss: 0.2089\n",
            "25/157, train_loss: 0.2180\n",
            "26/157, train_loss: 0.2300\n",
            "27/157, train_loss: 0.2284\n",
            "28/157, train_loss: 0.1857\n",
            "29/157, train_loss: 0.1620\n",
            "30/157, train_loss: 0.1532\n",
            "31/157, train_loss: 0.1710\n",
            "32/157, train_loss: 0.2127\n",
            "33/157, train_loss: 0.2122\n",
            "34/157, train_loss: 0.1683\n",
            "35/157, train_loss: 0.1813\n",
            "36/157, train_loss: 0.1808\n",
            "37/157, train_loss: 0.1734\n",
            "38/157, train_loss: 0.1598\n",
            "39/157, train_loss: 0.1712\n",
            "40/157, train_loss: 0.1850\n",
            "41/157, train_loss: 0.1773\n",
            "42/157, train_loss: 0.1592\n",
            "43/157, train_loss: 0.1447\n",
            "44/157, train_loss: 0.1705\n",
            "45/157, train_loss: 0.2026\n",
            "46/157, train_loss: 0.1897\n",
            "47/157, train_loss: 0.1820\n",
            "48/157, train_loss: 0.1752\n",
            "49/157, train_loss: 0.1731\n",
            "50/157, train_loss: 0.1664\n",
            "51/157, train_loss: 0.1621\n",
            "52/157, train_loss: 0.1629\n",
            "53/157, train_loss: 0.1574\n",
            "54/157, train_loss: 0.1625\n",
            "55/157, train_loss: 0.1255\n",
            "56/157, train_loss: 0.1585\n",
            "57/157, train_loss: 0.1640\n",
            "58/157, train_loss: 0.1667\n",
            "59/157, train_loss: 0.1648\n",
            "60/157, train_loss: 0.1699\n",
            "61/157, train_loss: 0.1494\n",
            "62/157, train_loss: 0.1697\n",
            "63/157, train_loss: 0.1540\n",
            "64/157, train_loss: 0.1506\n",
            "65/157, train_loss: 0.1544\n",
            "66/157, train_loss: 0.1754\n",
            "67/157, train_loss: 0.1411\n",
            "68/157, train_loss: 0.1780\n",
            "69/157, train_loss: 0.1278\n",
            "70/157, train_loss: 0.1315\n",
            "71/157, train_loss: 0.1421\n",
            "72/157, train_loss: 0.1716\n",
            "73/157, train_loss: 0.1486\n",
            "74/157, train_loss: 0.1594\n",
            "75/157, train_loss: 0.1670\n",
            "76/157, train_loss: 0.1676\n",
            "77/157, train_loss: 0.1448\n",
            "78/157, train_loss: 0.1316\n",
            "79/157, train_loss: 0.1115\n",
            "80/157, train_loss: 0.1412\n",
            "81/157, train_loss: 0.1377\n",
            "82/157, train_loss: 0.1214\n",
            "83/157, train_loss: 0.1198\n",
            "84/157, train_loss: 0.1167\n",
            "85/157, train_loss: 0.1105\n",
            "86/157, train_loss: 0.1402\n",
            "87/157, train_loss: 0.0978\n",
            "88/157, train_loss: 0.1376\n",
            "89/157, train_loss: 0.1114\n",
            "90/157, train_loss: 0.1211\n",
            "91/157, train_loss: 0.1566\n",
            "92/157, train_loss: 0.1366\n",
            "93/157, train_loss: 0.1416\n",
            "94/157, train_loss: 0.1371\n",
            "95/157, train_loss: 0.1088\n",
            "96/157, train_loss: 0.1241\n",
            "97/157, train_loss: 0.1221\n",
            "98/157, train_loss: 0.1468\n",
            "99/157, train_loss: 0.1321\n",
            "100/157, train_loss: 0.1018\n",
            "101/157, train_loss: 0.1144\n",
            "102/157, train_loss: 0.1223\n",
            "103/157, train_loss: 0.1161\n",
            "104/157, train_loss: 0.0948\n",
            "105/157, train_loss: 0.1124\n",
            "106/157, train_loss: 0.1204\n",
            "107/157, train_loss: 0.1101\n",
            "108/157, train_loss: 0.1083\n",
            "109/157, train_loss: 0.1104\n",
            "110/157, train_loss: 0.1076\n",
            "111/157, train_loss: 0.0872\n",
            "112/157, train_loss: 0.1101\n",
            "113/157, train_loss: 0.1251\n",
            "114/157, train_loss: 0.1129\n",
            "115/157, train_loss: 0.0932\n",
            "116/157, train_loss: 0.0992\n",
            "117/157, train_loss: 0.1096\n",
            "118/157, train_loss: 0.1016\n",
            "119/157, train_loss: 0.0977\n",
            "120/157, train_loss: 0.1041\n",
            "121/157, train_loss: 0.0916\n",
            "122/157, train_loss: 0.1079\n",
            "123/157, train_loss: 0.1090\n",
            "124/157, train_loss: 0.0787\n",
            "125/157, train_loss: 0.1033\n",
            "126/157, train_loss: 0.1047\n",
            "127/157, train_loss: 0.0949\n",
            "128/157, train_loss: 0.1082\n",
            "129/157, train_loss: 0.0988\n",
            "130/157, train_loss: 0.0944\n",
            "131/157, train_loss: 0.0930\n",
            "132/157, train_loss: 0.1047\n",
            "133/157, train_loss: 0.1391\n",
            "134/157, train_loss: 0.1101\n",
            "135/157, train_loss: 0.1033\n",
            "136/157, train_loss: 0.1308\n",
            "137/157, train_loss: 0.0930\n",
            "138/157, train_loss: 0.1203\n",
            "139/157, train_loss: 0.0941\n",
            "140/157, train_loss: 0.0898\n",
            "141/157, train_loss: 0.0834\n",
            "142/157, train_loss: 0.1237\n",
            "143/157, train_loss: 0.0856\n",
            "144/157, train_loss: 0.1158\n",
            "145/157, train_loss: 0.1028\n",
            "146/157, train_loss: 0.0872\n",
            "147/157, train_loss: 0.0858\n",
            "148/157, train_loss: 0.1061\n",
            "149/157, train_loss: 0.0794\n",
            "150/157, train_loss: 0.0910\n",
            "151/157, train_loss: 0.0865\n",
            "152/157, train_loss: 0.0950\n",
            "153/157, train_loss: 0.0771\n",
            "154/157, train_loss: 0.0999\n",
            "155/157, train_loss: 0.0683\n",
            "156/157, train_loss: 0.1110\n",
            "157/157, train_loss: 0.0830\n",
            "158/157, train_loss: 0.1347\n",
            "epoch 2 average loss: 0.1452\n",
            "saved new best metric model\n",
            "current epoch: 2 current AUC: 0.9998 current accuracy: 0.9876 best AUC: 0.9998 at epoch: 2\n",
            "----------\n",
            "epoch 3/4\n",
            "1/157, train_loss: 0.0794\n",
            "2/157, train_loss: 0.0886\n",
            "3/157, train_loss: 0.0890\n",
            "4/157, train_loss: 0.0824\n",
            "5/157, train_loss: 0.0716\n",
            "6/157, train_loss: 0.0910\n",
            "7/157, train_loss: 0.0661\n",
            "8/157, train_loss: 0.0756\n",
            "9/157, train_loss: 0.0713\n",
            "10/157, train_loss: 0.0928\n",
            "11/157, train_loss: 0.0844\n",
            "12/157, train_loss: 0.0991\n",
            "13/157, train_loss: 0.0846\n",
            "14/157, train_loss: 0.0771\n",
            "15/157, train_loss: 0.0767\n",
            "16/157, train_loss: 0.0847\n",
            "17/157, train_loss: 0.0883\n",
            "18/157, train_loss: 0.0806\n",
            "19/157, train_loss: 0.0683\n",
            "20/157, train_loss: 0.0753\n",
            "21/157, train_loss: 0.1014\n",
            "22/157, train_loss: 0.0727\n",
            "23/157, train_loss: 0.0668\n",
            "24/157, train_loss: 0.0932\n",
            "25/157, train_loss: 0.1301\n",
            "26/157, train_loss: 0.0732\n",
            "27/157, train_loss: 0.0585\n",
            "28/157, train_loss: 0.0780\n",
            "29/157, train_loss: 0.0949\n",
            "30/157, train_loss: 0.1003\n",
            "31/157, train_loss: 0.0985\n",
            "32/157, train_loss: 0.0693\n",
            "33/157, train_loss: 0.0869\n",
            "34/157, train_loss: 0.0810\n",
            "35/157, train_loss: 0.0603\n",
            "36/157, train_loss: 0.0783\n",
            "37/157, train_loss: 0.0750\n",
            "38/157, train_loss: 0.0614\n",
            "39/157, train_loss: 0.0786\n",
            "40/157, train_loss: 0.0779\n",
            "41/157, train_loss: 0.0669\n",
            "42/157, train_loss: 0.0739\n",
            "43/157, train_loss: 0.0767\n",
            "44/157, train_loss: 0.0685\n",
            "45/157, train_loss: 0.0684\n",
            "46/157, train_loss: 0.0761\n",
            "47/157, train_loss: 0.0702\n",
            "48/157, train_loss: 0.0701\n",
            "49/157, train_loss: 0.0903\n",
            "50/157, train_loss: 0.0631\n",
            "51/157, train_loss: 0.0656\n",
            "52/157, train_loss: 0.0690\n",
            "53/157, train_loss: 0.0742\n",
            "54/157, train_loss: 0.0799\n",
            "55/157, train_loss: 0.0925\n",
            "56/157, train_loss: 0.0677\n",
            "57/157, train_loss: 0.0831\n",
            "58/157, train_loss: 0.0667\n",
            "59/157, train_loss: 0.0671\n",
            "60/157, train_loss: 0.0760\n",
            "61/157, train_loss: 0.0721\n",
            "62/157, train_loss: 0.0688\n",
            "63/157, train_loss: 0.0598\n",
            "64/157, train_loss: 0.0707\n",
            "65/157, train_loss: 0.0603\n",
            "66/157, train_loss: 0.0843\n",
            "67/157, train_loss: 0.0792\n",
            "68/157, train_loss: 0.0653\n",
            "69/157, train_loss: 0.0642\n",
            "70/157, train_loss: 0.0593\n",
            "71/157, train_loss: 0.0784\n",
            "72/157, train_loss: 0.0583\n",
            "73/157, train_loss: 0.0578\n",
            "74/157, train_loss: 0.0570\n",
            "75/157, train_loss: 0.0492\n",
            "76/157, train_loss: 0.0666\n",
            "77/157, train_loss: 0.0619\n",
            "78/157, train_loss: 0.0473\n",
            "79/157, train_loss: 0.0810\n",
            "80/157, train_loss: 0.0711\n",
            "81/157, train_loss: 0.0629\n",
            "82/157, train_loss: 0.0707\n",
            "83/157, train_loss: 0.0549\n",
            "84/157, train_loss: 0.0524\n",
            "85/157, train_loss: 0.0699\n",
            "86/157, train_loss: 0.0630\n",
            "87/157, train_loss: 0.0539\n",
            "88/157, train_loss: 0.0480\n",
            "89/157, train_loss: 0.0484\n",
            "90/157, train_loss: 0.0677\n",
            "91/157, train_loss: 0.0470\n",
            "92/157, train_loss: 0.0695\n",
            "93/157, train_loss: 0.0477\n",
            "94/157, train_loss: 0.0597\n",
            "95/157, train_loss: 0.0566\n",
            "96/157, train_loss: 0.0504\n",
            "97/157, train_loss: 0.0699\n",
            "98/157, train_loss: 0.0591\n",
            "99/157, train_loss: 0.0561\n",
            "100/157, train_loss: 0.0501\n",
            "101/157, train_loss: 0.0452\n",
            "102/157, train_loss: 0.0671\n",
            "103/157, train_loss: 0.0576\n",
            "104/157, train_loss: 0.0584\n",
            "105/157, train_loss: 0.0661\n",
            "106/157, train_loss: 0.0512\n",
            "107/157, train_loss: 0.0457\n",
            "108/157, train_loss: 0.0699\n",
            "109/157, train_loss: 0.0445\n",
            "110/157, train_loss: 0.0539\n",
            "111/157, train_loss: 0.0579\n",
            "112/157, train_loss: 0.0660\n",
            "113/157, train_loss: 0.0547\n",
            "114/157, train_loss: 0.0612\n",
            "115/157, train_loss: 0.0568\n",
            "116/157, train_loss: 0.0592\n",
            "117/157, train_loss: 0.0614\n",
            "118/157, train_loss: 0.0686\n",
            "119/157, train_loss: 0.0565\n",
            "120/157, train_loss: 0.0491\n",
            "121/157, train_loss: 0.0431\n",
            "122/157, train_loss: 0.0534\n",
            "123/157, train_loss: 0.0513\n",
            "124/157, train_loss: 0.0705\n",
            "125/157, train_loss: 0.0355\n",
            "126/157, train_loss: 0.0530\n",
            "127/157, train_loss: 0.0533\n",
            "128/157, train_loss: 0.0477\n",
            "129/157, train_loss: 0.0381\n",
            "130/157, train_loss: 0.0600\n",
            "131/157, train_loss: 0.0638\n",
            "132/157, train_loss: 0.0624\n",
            "133/157, train_loss: 0.0405\n",
            "134/157, train_loss: 0.0538\n",
            "135/157, train_loss: 0.0498\n",
            "136/157, train_loss: 0.0479\n",
            "137/157, train_loss: 0.0423\n",
            "138/157, train_loss: 0.0477\n",
            "139/157, train_loss: 0.0575\n",
            "140/157, train_loss: 0.0473\n",
            "141/157, train_loss: 0.0740\n",
            "142/157, train_loss: 0.0565\n",
            "143/157, train_loss: 0.0642\n",
            "144/157, train_loss: 0.0642\n",
            "145/157, train_loss: 0.0764\n",
            "146/157, train_loss: 0.0812\n",
            "147/157, train_loss: 0.0482\n",
            "148/157, train_loss: 0.0683\n",
            "149/157, train_loss: 0.0435\n",
            "150/157, train_loss: 0.0473\n",
            "151/157, train_loss: 0.0569\n",
            "152/157, train_loss: 0.0432\n",
            "153/157, train_loss: 0.0368\n",
            "154/157, train_loss: 0.0548\n",
            "155/157, train_loss: 0.0408\n",
            "156/157, train_loss: 0.0582\n",
            "157/157, train_loss: 0.0551\n",
            "158/157, train_loss: 0.0483\n",
            "epoch 3 average loss: 0.0657\n",
            "saved new best metric model\n",
            "current epoch: 3 current AUC: 0.9999 current accuracy: 0.9941 best AUC: 0.9999 at epoch: 3\n",
            "----------\n",
            "epoch 4/4\n",
            "1/157, train_loss: 0.0495\n",
            "2/157, train_loss: 0.0343\n",
            "3/157, train_loss: 0.0577\n",
            "4/157, train_loss: 0.0389\n",
            "5/157, train_loss: 0.0532\n",
            "6/157, train_loss: 0.0503\n",
            "7/157, train_loss: 0.0376\n",
            "8/157, train_loss: 0.0460\n",
            "9/157, train_loss: 0.0574\n",
            "10/157, train_loss: 0.0444\n",
            "11/157, train_loss: 0.0373\n",
            "12/157, train_loss: 0.0391\n",
            "13/157, train_loss: 0.0563\n",
            "14/157, train_loss: 0.0287\n",
            "15/157, train_loss: 0.0392\n",
            "16/157, train_loss: 0.0468\n",
            "17/157, train_loss: 0.0388\n",
            "18/157, train_loss: 0.0408\n",
            "19/157, train_loss: 0.0515\n",
            "20/157, train_loss: 0.0319\n",
            "21/157, train_loss: 0.0334\n",
            "22/157, train_loss: 0.0402\n",
            "23/157, train_loss: 0.0405\n",
            "24/157, train_loss: 0.0404\n",
            "25/157, train_loss: 0.0429\n",
            "26/157, train_loss: 0.0526\n",
            "27/157, train_loss: 0.0333\n",
            "28/157, train_loss: 0.0438\n",
            "29/157, train_loss: 0.0577\n",
            "30/157, train_loss: 0.0451\n",
            "31/157, train_loss: 0.0497\n",
            "32/157, train_loss: 0.0409\n",
            "33/157, train_loss: 0.0523\n",
            "34/157, train_loss: 0.0468\n",
            "35/157, train_loss: 0.0549\n",
            "36/157, train_loss: 0.0363\n",
            "37/157, train_loss: 0.0487\n",
            "38/157, train_loss: 0.0572\n",
            "39/157, train_loss: 0.0609\n",
            "40/157, train_loss: 0.0521\n",
            "41/157, train_loss: 0.0423\n",
            "42/157, train_loss: 0.0319\n",
            "43/157, train_loss: 0.0311\n",
            "44/157, train_loss: 0.0486\n",
            "45/157, train_loss: 0.0390\n",
            "46/157, train_loss: 0.0463\n",
            "47/157, train_loss: 0.0395\n",
            "48/157, train_loss: 0.0391\n",
            "49/157, train_loss: 0.0357\n",
            "50/157, train_loss: 0.0324\n",
            "51/157, train_loss: 0.0459\n",
            "52/157, train_loss: 0.0425\n",
            "53/157, train_loss: 0.0449\n",
            "54/157, train_loss: 0.0399\n",
            "55/157, train_loss: 0.0512\n",
            "56/157, train_loss: 0.0328\n",
            "57/157, train_loss: 0.0402\n",
            "58/157, train_loss: 0.0468\n",
            "59/157, train_loss: 0.0431\n",
            "60/157, train_loss: 0.0363\n",
            "61/157, train_loss: 0.0407\n",
            "62/157, train_loss: 0.0482\n",
            "63/157, train_loss: 0.0527\n",
            "64/157, train_loss: 0.0284\n",
            "65/157, train_loss: 0.0308\n",
            "66/157, train_loss: 0.0549\n",
            "67/157, train_loss: 0.0361\n",
            "68/157, train_loss: 0.0343\n",
            "69/157, train_loss: 0.0386\n",
            "70/157, train_loss: 0.0281\n",
            "71/157, train_loss: 0.0434\n",
            "72/157, train_loss: 0.0337\n",
            "73/157, train_loss: 0.0294\n",
            "74/157, train_loss: 0.0285\n",
            "75/157, train_loss: 0.0447\n",
            "76/157, train_loss: 0.0326\n",
            "77/157, train_loss: 0.0364\n",
            "78/157, train_loss: 0.0324\n",
            "79/157, train_loss: 0.0293\n",
            "80/157, train_loss: 0.0373\n",
            "81/157, train_loss: 0.0467\n",
            "82/157, train_loss: 0.0482\n",
            "83/157, train_loss: 0.0338\n",
            "84/157, train_loss: 0.0533\n",
            "85/157, train_loss: 0.0377\n",
            "86/157, train_loss: 0.0358\n",
            "87/157, train_loss: 0.0330\n",
            "88/157, train_loss: 0.0532\n",
            "89/157, train_loss: 0.0364\n",
            "90/157, train_loss: 0.0382\n",
            "91/157, train_loss: 0.0402\n",
            "92/157, train_loss: 0.0446\n",
            "93/157, train_loss: 0.0299\n",
            "94/157, train_loss: 0.0492\n",
            "95/157, train_loss: 0.0339\n",
            "96/157, train_loss: 0.0361\n",
            "97/157, train_loss: 0.0449\n",
            "98/157, train_loss: 0.0334\n",
            "99/157, train_loss: 0.0471\n",
            "100/157, train_loss: 0.0338\n",
            "101/157, train_loss: 0.0385\n",
            "102/157, train_loss: 0.0521\n",
            "103/157, train_loss: 0.0260\n",
            "104/157, train_loss: 0.0486\n",
            "105/157, train_loss: 0.0360\n",
            "106/157, train_loss: 0.0367\n",
            "107/157, train_loss: 0.0361\n",
            "108/157, train_loss: 0.0292\n",
            "109/157, train_loss: 0.0326\n",
            "110/157, train_loss: 0.0266\n",
            "111/157, train_loss: 0.0223\n",
            "112/157, train_loss: 0.0392\n",
            "113/157, train_loss: 0.0329\n",
            "114/157, train_loss: 0.0513\n",
            "115/157, train_loss: 0.0460\n",
            "116/157, train_loss: 0.0209\n",
            "117/157, train_loss: 0.0223\n",
            "118/157, train_loss: 0.0277\n",
            "119/157, train_loss: 0.0466\n",
            "120/157, train_loss: 0.0227\n",
            "121/157, train_loss: 0.0642\n",
            "122/157, train_loss: 0.0387\n",
            "123/157, train_loss: 0.0399\n",
            "124/157, train_loss: 0.0279\n",
            "125/157, train_loss: 0.0537\n",
            "126/157, train_loss: 0.0428\n",
            "127/157, train_loss: 0.0316\n",
            "128/157, train_loss: 0.0390\n",
            "129/157, train_loss: 0.0316\n",
            "130/157, train_loss: 0.0502\n",
            "131/157, train_loss: 0.0303\n",
            "132/157, train_loss: 0.0228\n",
            "133/157, train_loss: 0.0286\n",
            "134/157, train_loss: 0.0272\n",
            "135/157, train_loss: 0.0359\n",
            "136/157, train_loss: 0.0305\n",
            "137/157, train_loss: 0.0285\n",
            "138/157, train_loss: 0.0295\n",
            "139/157, train_loss: 0.0265\n",
            "140/157, train_loss: 0.0364\n",
            "141/157, train_loss: 0.0287\n",
            "142/157, train_loss: 0.0272\n",
            "143/157, train_loss: 0.0335\n",
            "144/157, train_loss: 0.0269\n",
            "145/157, train_loss: 0.0360\n",
            "146/157, train_loss: 0.0557\n",
            "147/157, train_loss: 0.0341\n",
            "148/157, train_loss: 0.0259\n",
            "149/157, train_loss: 0.0277\n",
            "150/157, train_loss: 0.0460\n",
            "151/157, train_loss: 0.0295\n",
            "152/157, train_loss: 0.0227\n",
            "153/157, train_loss: 0.0296\n",
            "154/157, train_loss: 0.0211\n",
            "155/157, train_loss: 0.0374\n",
            "156/157, train_loss: 0.0235\n",
            "157/157, train_loss: 0.0298\n",
            "158/157, train_loss: 0.0232\n",
            "epoch 4 average loss: 0.0388\n",
            "saved new best metric model\n",
            "current epoch: 4 current AUC: 1.0000 current accuracy: 0.9964 best AUC: 1.0000 at epoch: 4\n",
            "train completed, best_metric: 1.0000 at epoch: 4\n"
          ]
        }
      ],
      "source": [
        "best_metric = -1\n",
        "best_metric_epoch = -1\n",
        "epoch_loss_values = []\n",
        "metric_values = []\n",
        "writer = SummaryWriter()\n",
        "\n",
        "for epoch in range(max_epochs):\n",
        "    print(\"-\" * 10)\n",
        "    print(f\"epoch {epoch + 1}/{max_epochs}\")\n",
        "    model.train()\n",
        "    epoch_loss = 0\n",
        "    step = 0\n",
        "    for batch_data in train_loader:\n",
        "        step += 1\n",
        "        inputs, labels = batch_data[0].to(device), batch_data[1].to(device)\n",
        "        optimizer.zero_grad()\n",
        "        outputs = model(inputs)\n",
        "        loss = loss_function(outputs, labels)\n",
        "        loss.backward()\n",
        "        optimizer.step()\n",
        "        epoch_loss += loss.item()\n",
        "        print(f\"{step}/{len(train_ds) // train_loader.batch_size}, \" f\"train_loss: {loss.item():.4f}\")\n",
        "        epoch_len = len(train_ds) // train_loader.batch_size\n",
        "        writer.add_scalar(\"train_loss\", loss.item(), epoch_len * epoch + step)\n",
        "    epoch_loss /= step\n",
        "    epoch_loss_values.append(epoch_loss)\n",
        "    print(f\"epoch {epoch + 1} average loss: {epoch_loss:.4f}\")\n",
        "\n",
        "    if (epoch + 1) % val_interval == 0:\n",
        "        model.eval()\n",
        "        with torch.no_grad():\n",
        "            y_pred = torch.tensor([], dtype=torch.float32, device=device)\n",
        "            y = torch.tensor([], dtype=torch.long, device=device)\n",
        "            for val_data in val_loader:\n",
        "                val_images, val_labels = (\n",
        "                    val_data[0].to(device),\n",
        "                    val_data[1].to(device),\n",
        "                )\n",
        "                y_pred = torch.cat([y_pred, model(val_images)], dim=0)\n",
        "                y = torch.cat([y, val_labels], dim=0)\n",
        "            y_onehot = [y_trans(i) for i in decollate_batch(y, detach=False)]\n",
        "            y_pred_act = [y_pred_trans(i) for i in decollate_batch(y_pred)]\n",
        "            auc_metric(y_pred_act, y_onehot)\n",
        "            result = auc_metric.aggregate()\n",
        "            auc_metric.reset()\n",
        "            del y_pred_act, y_onehot\n",
        "            metric_values.append(result)\n",
        "            acc_value = torch.eq(y_pred.argmax(dim=1), y)\n",
        "            acc_metric = acc_value.sum().item() / len(acc_value)\n",
        "            if result > best_metric:\n",
        "                best_metric = result\n",
        "                best_metric_epoch = epoch + 1\n",
        "                torch.save(model.state_dict(), os.path.join(root_dir, \"best_metric_model.pth\"))\n",
        "                print(\"saved new best metric model\")\n",
        "            print(\n",
        "                f\"current epoch: {epoch + 1} current AUC: {result:.4f}\"\n",
        "                f\" current accuracy: {acc_metric:.4f}\"\n",
        "                f\" best AUC: {best_metric:.4f}\"\n",
        "                f\" at epoch: {best_metric_epoch}\"\n",
        "            )\n",
        "            writer.add_scalar(\"val_accuracy\", acc_metric, epoch + 1)\n",
        "\n",
        "print(f\"train completed, best_metric: {best_metric:.4f} \" f\"at epoch: {best_metric_epoch}\")\n",
        "writer.close()"
      ]
    },
    {
      "cell_type": "markdown",
      "metadata": {
        "id": "ql7WvkLHKhDO"
      },
      "source": [
        "## Plot the loss and metric"
      ]
    },
    {
      "cell_type": "code",
      "execution_count": null,
      "metadata": {
        "colab": {
          "base_uri": "https://localhost:8080/",
          "height": 462
        },
        "id": "YLKQySHlKhDO",
        "outputId": "36a7cb01-08e9-43c2-9638-a01335e247c9"
      },
      "outputs": [
        {
          "output_type": "display_data",
          "data": {
            "text/plain": [
              "<Figure size 1200x600 with 2 Axes>"
            ],
            "image/png": "[encoded data removed]"
          },
          "metadata": {}
        }
      ],
      "source": [
        "plt.figure(\"train\", (12, 6))\n",
        "plt.subplot(1, 2, 1)\n",
        "plt.title(\"Epoch Average Loss\")\n",
        "x = [i + 1 for i in range(len(epoch_loss_values))]\n",
        "y = epoch_loss_values\n",
        "plt.xlabel(\"epoch\")\n",
        "plt.plot(x, y)\n",
        "plt.subplot(1, 2, 2)\n",
        "plt.title(\"Val AUC\")\n",
        "x = [val_interval * (i + 1) for i in range(len(metric_values))]\n",
        "y = metric_values\n",
        "plt.xlabel(\"epoch\")\n",
        "plt.plot(x, y)\n",
        "plt.show()"
      ]
    },
    {
      "cell_type": "markdown",
      "metadata": {
        "id": "m196HBWtKhDO"
      },
      "source": [
        "## Evaluate the model on test dataset\n",
        "\n",
        "After training and validation, we already got the best model on validation test.  \n",
        "We need to evaluate the model on test dataset to check whether it's robust and not over-fitting.  \n",
        "We'll use these predictions to generate a classification report."
      ]
    },
    {
      "cell_type": "code",
      "execution_count": null,
      "metadata": {
        "id": "VWYRhzo5KhDO"
      },
      "outputs": [],
      "source": [
        "model.load_state_dict(torch.load(os.path.join(root_dir, \"best_metric_model.pth\"), weights_only=True))\n",
        "model.eval()\n",
        "y_true = []\n",
        "y_pred = []\n",
        "with torch.no_grad():\n",
        "    for test_data in test_loader:\n",
        "        test_images, test_labels = (\n",
        "            test_data[0].to(device),\n",
        "            test_data[1].to(device),\n",
        "        )\n",
        "        pred = model(test_images).argmax(dim=1)\n",
        "        for i in range(len(pred)):\n",
        "            y_true.append(test_labels[i].item())\n",
        "            y_pred.append(pred[i].item())"
      ]
    },
    {
      "cell_type": "code",
      "execution_count": null,
      "metadata": {
        "tags": [],
        "colab": {
          "base_uri": "https://localhost:8080/"
        },
        "id": "qqAq4dWWKhDO",
        "outputId": "b093d470-438e-4899-dae1-33f28d1012fd"
      },
      "outputs": [
        {
          "output_type": "stream",
          "name": "stdout",
          "text": [
            "              precision    recall  f1-score   support\n",
            "\n",
            "   AbdomenCT     0.9940    0.9980    0.9960       995\n",
            "   BreastMRI     0.9954    0.9943    0.9949       880\n",
            "         CXR     1.0000    0.9969    0.9985       982\n",
            "     ChestCT     0.9980    1.0000    0.9990      1014\n",
            "        Hand     0.9971    0.9952    0.9962      1048\n",
            "      HeadCT     0.9980    0.9980    0.9980       976\n",
            "\n",
            "    accuracy                         0.9971      5895\n",
            "   macro avg     0.9971    0.9971    0.9971      5895\n",
            "weighted avg     0.9971    0.9971    0.9971      5895\n",
            "\n"
          ]
        }
      ],
      "source": [
        "print(classification_report(y_true, y_pred, target_names=class_names, digits=4))"
      ]
    },
    {
      "cell_type": "markdown",
      "metadata": {
        "id": "m5ytVN_sKhDO"
      },
      "source": [
        "## Cleanup data directory\n",
        "\n",
        "Remove directory if a temporary was used."
      ]
    },
    {
      "cell_type": "code",
      "execution_count": null,
      "metadata": {
        "id": "EEcxX3CiKhDO"
      },
      "outputs": [],
      "source": [
        "if directory is None:\n",
        "    shutil.rmtree(root_dir)"
      ]
    }
  ],
  "metadata": {
    "kernelspec": {
      "display_name": "Python 3",
      "name": "python3"
    },
    "language_info": {
      "codemirror_mode": {
        "name": "ipython",
        "version": 3
      },
      "file_extension": ".py",
      "mimetype": "text/x-python",
      "name": "python",
      "nbconvert_exporter": "python",
      "pygments_lexer": "ipython3",
      "version": "3.10.12"
    },
    "colab": {
      "provenance": [],
      "gpuType": "T4",
      "include_colab_link": true
    },
    "accelerator": "GPU"
  },
  "nbformat": 4,
  "nbformat_minor": 0
}